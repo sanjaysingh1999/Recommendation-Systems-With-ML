{
  "cells": [
    {
      "metadata": {},
      "cell_type": "markdown",
      "source": "## Collaborative Filtering"
    },
    {
      "metadata": {
        "trusted": true
      },
      "cell_type": "code",
      "source": "!curl http://www.codeheroku.com/static/workshop/datasets/collab_filtering_dataset.zip -o collab_filtering_dataset.zip\n!unzip collab_filtering_dataset",
      "execution_count": 3,
      "outputs": [
        {
          "output_type": "stream",
          "text": "  % Total    % Received % Xferd  Average Speed   Time    Time     Time  Current\n                                 Dload  Upload   Total   Spent    Left  Speed\n100  837k  100  837k    0     0  2169k      0 --:--:-- --:--:-- --:--:-- 2220k\nArchive:  collab_filtering_dataset.zip\n  inflating: toy_dataset.csv         \n   creating: __MACOSX/\n  inflating: __MACOSX/._toy_dataset.csv  \n  inflating: ratings.csv             \n  inflating: __MACOSX/._ratings.csv  \n  inflating: movies.csv              \n  inflating: __MACOSX/._movies.csv   \n",
          "name": "stdout"
        }
      ]
    },
    {
      "metadata": {
        "trusted": true
      },
      "cell_type": "code",
      "source": "import pandas as pd\nfrom scipy import sparse\nfrom sklearn.metrics.pairwise import cosine_similarity",
      "execution_count": 7,
      "outputs": []
    },
    {
      "metadata": {
        "trusted": true
      },
      "cell_type": "code",
      "source": "ratings = pd.read_csv(\"toy_dataset.csv\",index_col=0)\nratings = ratings.fillna(0)\nratings",
      "execution_count": 12,
      "outputs": [
        {
          "output_type": "execute_result",
          "execution_count": 12,
          "data": {
            "text/html": "<div>\n<style scoped>\n    .dataframe tbody tr th:only-of-type {\n        vertical-align: middle;\n    }\n\n    .dataframe tbody tr th {\n        vertical-align: top;\n    }\n\n    .dataframe thead th {\n        text-align: right;\n    }\n</style>\n<table border=\"1\" class=\"dataframe\">\n  <thead>\n    <tr style=\"text-align: right;\">\n      <th></th>\n      <th>action1</th>\n      <th>action2</th>\n      <th>action3</th>\n      <th>romantic1</th>\n      <th>romantic2</th>\n      <th>romantic3</th>\n    </tr>\n  </thead>\n  <tbody>\n    <tr>\n      <th>user 1</th>\n      <td>4.0</td>\n      <td>5.0</td>\n      <td>3.0</td>\n      <td>0.0</td>\n      <td>2.0</td>\n      <td>1.0</td>\n    </tr>\n    <tr>\n      <th>user 2</th>\n      <td>5.0</td>\n      <td>3.0</td>\n      <td>3.0</td>\n      <td>2.0</td>\n      <td>2.0</td>\n      <td>0.0</td>\n    </tr>\n    <tr>\n      <th>user 3</th>\n      <td>1.0</td>\n      <td>0.0</td>\n      <td>0.0</td>\n      <td>4.0</td>\n      <td>5.0</td>\n      <td>4.0</td>\n    </tr>\n    <tr>\n      <th>user 4</th>\n      <td>0.0</td>\n      <td>2.0</td>\n      <td>1.0</td>\n      <td>4.0</td>\n      <td>0.0</td>\n      <td>3.0</td>\n    </tr>\n    <tr>\n      <th>user 5</th>\n      <td>1.0</td>\n      <td>0.0</td>\n      <td>2.0</td>\n      <td>3.0</td>\n      <td>3.0</td>\n      <td>4.0</td>\n    </tr>\n  </tbody>\n</table>\n</div>",
            "text/plain": "        action1  action2  action3  romantic1  romantic2  romantic3\nuser 1      4.0      5.0      3.0        0.0        2.0        1.0\nuser 2      5.0      3.0      3.0        2.0        2.0        0.0\nuser 3      1.0      0.0      0.0        4.0        5.0        4.0\nuser 4      0.0      2.0      1.0        4.0        0.0        3.0\nuser 5      1.0      0.0      2.0        3.0        3.0        4.0"
          },
          "metadata": {}
        }
      ]
    },
    {
      "metadata": {
        "trusted": true
      },
      "cell_type": "code",
      "source": "def standardize(row):\n    new_row = (row - row.mean())/(row.max()-row.min())\n    return new_row\n\nratings_std = ratings.apply(standardize)\n\n##We are taking a transpose since we want similarity between items which need to be in rows\nitem_similarity = cosine_similarity(ratings_std.T)\nprint(item_similarity)",
      "execution_count": 23,
      "outputs": [
        {
          "output_type": "stream",
          "text": "[[ 1.          0.70668875  0.81368151 -0.79941088 -0.02539184 -0.91410609]\n [ 0.70668875  1.          0.72310153 -0.84515425 -0.5189993  -0.84337386]\n [ 0.81368151  0.72310153  1.         -0.84794611 -0.3799803  -0.80218063]\n [-0.79941088 -0.84515425 -0.84794611  1.          0.14803913  0.72374686]\n [-0.02539184 -0.5189993  -0.3799803   0.14803913  1.          0.39393939]\n [-0.91410609 -0.84337386 -0.80218063  0.72374686  0.39393939  1.        ]]\n",
          "name": "stdout"
        }
      ]
    },
    {
      "metadata": {
        "trusted": true
      },
      "cell_type": "code",
      "source": "item_similarity_df = pd.DataFrame(item_similarity,index=ratings.columns,columns=ratings.columns)\nitem_similarity_df",
      "execution_count": 24,
      "outputs": [
        {
          "output_type": "execute_result",
          "execution_count": 24,
          "data": {
            "text/html": "<div>\n<style scoped>\n    .dataframe tbody tr th:only-of-type {\n        vertical-align: middle;\n    }\n\n    .dataframe tbody tr th {\n        vertical-align: top;\n    }\n\n    .dataframe thead th {\n        text-align: right;\n    }\n</style>\n<table border=\"1\" class=\"dataframe\">\n  <thead>\n    <tr style=\"text-align: right;\">\n      <th></th>\n      <th>action1</th>\n      <th>action2</th>\n      <th>action3</th>\n      <th>romantic1</th>\n      <th>romantic2</th>\n      <th>romantic3</th>\n    </tr>\n  </thead>\n  <tbody>\n    <tr>\n      <th>action1</th>\n      <td>1.000000</td>\n      <td>0.706689</td>\n      <td>0.813682</td>\n      <td>-0.799411</td>\n      <td>-0.025392</td>\n      <td>-0.914106</td>\n    </tr>\n    <tr>\n      <th>action2</th>\n      <td>0.706689</td>\n      <td>1.000000</td>\n      <td>0.723102</td>\n      <td>-0.845154</td>\n      <td>-0.518999</td>\n      <td>-0.843374</td>\n    </tr>\n    <tr>\n      <th>action3</th>\n      <td>0.813682</td>\n      <td>0.723102</td>\n      <td>1.000000</td>\n      <td>-0.847946</td>\n      <td>-0.379980</td>\n      <td>-0.802181</td>\n    </tr>\n    <tr>\n      <th>romantic1</th>\n      <td>-0.799411</td>\n      <td>-0.845154</td>\n      <td>-0.847946</td>\n      <td>1.000000</td>\n      <td>0.148039</td>\n      <td>0.723747</td>\n    </tr>\n    <tr>\n      <th>romantic2</th>\n      <td>-0.025392</td>\n      <td>-0.518999</td>\n      <td>-0.379980</td>\n      <td>0.148039</td>\n      <td>1.000000</td>\n      <td>0.393939</td>\n    </tr>\n    <tr>\n      <th>romantic3</th>\n      <td>-0.914106</td>\n      <td>-0.843374</td>\n      <td>-0.802181</td>\n      <td>0.723747</td>\n      <td>0.393939</td>\n      <td>1.000000</td>\n    </tr>\n  </tbody>\n</table>\n</div>",
            "text/plain": "            action1   action2   action3  romantic1  romantic2  romantic3\naction1    1.000000  0.706689  0.813682  -0.799411  -0.025392  -0.914106\naction2    0.706689  1.000000  0.723102  -0.845154  -0.518999  -0.843374\naction3    0.813682  0.723102  1.000000  -0.847946  -0.379980  -0.802181\nromantic1 -0.799411 -0.845154 -0.847946   1.000000   0.148039   0.723747\nromantic2 -0.025392 -0.518999 -0.379980   0.148039   1.000000   0.393939\nromantic3 -0.914106 -0.843374 -0.802181   0.723747   0.393939   1.000000"
          },
          "metadata": {}
        }
      ]
    },
    {
      "metadata": {
        "trusted": true
      },
      "cell_type": "code",
      "source": "## Let's Make Recommendations\n\ndef get_similar_movies(movie_name,user_rating):\n    similar_score = item_similarity_df[movie_name]*(user_rating-2.5)\n    similar_score = similar_score.sort_values(ascending=False)\n    \n    return similar_score\n\nprint(get_similar_movies(\"romantic3\",1))",
      "execution_count": 32,
      "outputs": [
        {
          "output_type": "stream",
          "text": "action1      1.371159\naction2      1.265061\naction3      1.203271\nromantic2   -0.590909\nromantic1   -1.085620\nromantic3   -1.500000\nName: romantic3, dtype: float64\n",
          "name": "stdout"
        }
      ]
    },
    {
      "metadata": {
        "trusted": true
      },
      "cell_type": "code",
      "source": "action_lover = [(\"action1\",5),(\"romantic2\",1),(\"romantic3\",1)]\n\nsimilar_movies = pd.DataFrame()\n\nfor movie,rating in action_lover:\n    similar_movies = similar_movies.append(get_similar_movies(movie,rating),ignore_index=True)\n\nsimilar_movies.head()\nsimilar_movies.sum().sort_values(ascending=False)",
      "execution_count": 35,
      "outputs": [
        {
          "output_type": "execute_result",
          "execution_count": 35,
          "data": {
            "text/plain": "action1      3.909247\naction2      3.810282\naction3      3.807445\nromantic2   -2.154389\nromantic1   -3.306206\nromantic3   -4.376174\ndtype: float64"
          },
          "metadata": {}
        }
      ]
    },
    {
      "metadata": {
        "trusted": true
      },
      "cell_type": "code",
      "source": "",
      "execution_count": null,
      "outputs": []
    }
  ],
  "metadata": {
    "kernelspec": {
      "name": "python36",
      "display_name": "Python 3.6",
      "language": "python"
    },
    "language_info": {
      "mimetype": "text/x-python",
      "nbconvert_exporter": "python",
      "name": "python",
      "pygments_lexer": "ipython3",
      "version": "3.6.6",
      "file_extension": ".py",
      "codemirror_mode": {
        "version": 3,
        "name": "ipython"
      }
    }
  },
  "nbformat": 4,
  "nbformat_minor": 2
}